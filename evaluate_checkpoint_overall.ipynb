{
 "cells": [
  {
   "cell_type": "markdown",
   "metadata": {},
   "source": [
    "# Plot Ground Truth"
   ]
  },
  {
   "cell_type": "code",
   "execution_count": 1,
   "metadata": {},
   "outputs": [],
   "source": [
    "import matplotlib.pyplot as plt\n",
    "import numpy as np\n",
    "from PIL import Image\n",
    "from copy import deepcopy\n",
    "from typing import Tuple\n",
    "import matplotlib.patches as patches\n",
    "import os\n",
    "import random\n",
    "\n",
    "# Define the transformation functions\n",
    "def get_preprocess_shape(oldh: int, oldw: int, long_side_length: int) -> Tuple[int, int]:\n",
    "    \"\"\"\n",
    "    Compute the output size given input size and target long side length.\n",
    "    \"\"\"\n",
    "    scale = long_side_length * 1.0 / max(oldh, oldw)\n",
    "    newh, neww = oldh * scale, oldw * scale\n",
    "    neww = int(neww + 0.5)\n",
    "    newh = int(newh + 0.5)\n",
    "    return (newh, neww)\n",
    "\n",
    "def inverse_coords(coords: np.ndarray, original_size: Tuple[int, int], target_length=1024) -> np.ndarray:\n",
    "    \"\"\"\n",
    "    Inverse transformation of coordinates from resized back to original.\n",
    "    \"\"\"\n",
    "    old_h, old_w = original_size\n",
    "    new_h, new_w = get_preprocess_shape(old_h, old_w, target_length)\n",
    "    coords = deepcopy(coords).astype(float)\n",
    "    coords[..., 0] = coords[..., 0] * (old_w / new_w)\n",
    "    coords[..., 1] = coords[..., 1] * (old_h / new_h)\n",
    "    return coords\n",
    "\n",
    "def inverse_boxes(boxes: np.ndarray, original_size: Tuple[int, int], target_length=1024) -> np.ndarray:\n",
    "    \"\"\"\n",
    "    Inverse transformation of boxes from resized back to original.\n",
    "    \"\"\"\n",
    "    boxes = inverse_coords(boxes.reshape(-1, 2, 2), original_size, target_length)\n",
    "    return boxes.reshape(-1, 4)\n",
    "\n",
    "def convert_boxes(boxes):\n",
    "    # Convert the boxes from center format to [y_min, x_min, y_max, x_max] format\n",
    "    converted_boxes = np.zeros_like(boxes)\n",
    "    converted_boxes[:, 0] = boxes[:, 1] - boxes[:, 3] / 2.0  # x_min\n",
    "    converted_boxes[:, 1] = boxes[:, 0] - boxes[:, 2] / 2.0  # y_min\n",
    "    converted_boxes[:, 2] = boxes[:, 1] + boxes[:, 3] / 2.0  # x_max\n",
    "    converted_boxes[:, 3] = boxes[:, 0] + boxes[:, 2] / 2.0  # y_max\n",
    "    return converted_boxes\n",
    "\n",
    "def plot_bbox(image, original_boxes, title):\n",
    "    # Plot the image with bounding boxes\n",
    "    plt.imshow(image)\n",
    "    ax = plt.gca()\n",
    "\n",
    "    for box in original_boxes:\n",
    "        x_min, y_min, x_max, y_max = box\n",
    "        rect = patches.Rectangle((x_min, y_min), x_max - x_min, y_max - y_min, linewidth=1, edgecolor='r', facecolor='none')\n",
    "        ax.add_patch(rect)\n",
    "\n",
    "    plt.axis('off')\n",
    "    plt.title(title)\n",
    "    plt.show()\n"
   ]
  },
  {
   "cell_type": "markdown",
   "metadata": {},
   "source": [
    "# Load SAM model and generate image embdding"
   ]
  },
  {
   "cell_type": "code",
   "execution_count": 2,
   "metadata": {},
   "outputs": [
    {
     "name": "stdout",
     "output_type": "stream",
     "text": [
      "/ictstr01/home/icb/hanyi.zhang/Detection_Head/segment-anything\n"
     ]
    },
    {
     "name": "stderr",
     "output_type": "stream",
     "text": [
      "/home/icb/hanyi.zhang/.local/lib/python3.9/site-packages/IPython/core/magics/osm.py:417: UserWarning: using dhist requires you to install the `pickleshare` library.\n",
      "  self.shell.db['dhist'] = compress_dhist(dhist)[-100:]\n"
     ]
    }
   ],
   "source": [
    "cd /home/icb/hanyi.zhang/Detection_Head/segment-anything"
   ]
  },
  {
   "cell_type": "code",
   "execution_count": 3,
   "metadata": {},
   "outputs": [
    {
     "data": {
      "text/plain": [
       "\"image_path = '/home/icb/hanyi.zhang/organoids_images/1709910822.png'\\nimage_path = '/home/icb/hanyi.zhang/organoids_images/1709910835.png'\\nimage_path = '/home/icb/hanyi.zhang/organoids_images/Picture2.png'\\nimage_path = '/home/icb/hanyi.zhang/organoids_images/Picture3.png'\\n\\nfile_idx = image_path.rsplit('.', 1)[0]\\n\\nimage_embedding_path = image_path.replace('.png', '.npy')\\n# Load the image file and convert it to a numpy array\\nwith Image.open(image_path) as image:\\n    image = image.convert('RGB')\\n    img_np = np.array(image)\\n\\n# Process the image to get its embedding\\nimg_embed = sam_image_encoder.set_image(img_np)\\nnp.save(image_embedding_path, img_embed.cpu().detach().numpy())\\n\\noriginal_size = image.size  # (width, height)\\noriginal_size = (original_size[1], original_size[0])  # Convert to (height, width)\\noriginal_size\""
      ]
     },
     "execution_count": 3,
     "metadata": {},
     "output_type": "execute_result"
    }
   ],
   "source": [
    "from segment_anything import sam_model_registry, SamPredictor\n",
    "from segment_anything.separate_sam_encoder import SamEncoder\n",
    "import torch\n",
    "\n",
    "sam_checkpoint = \"/home/icb/hanyi.zhang/Detection_Head/segment-anything/sam_vit_l_0b3195.pth\"\n",
    "model_type = \"vit_l\"\n",
    "\n",
    "device = torch.device('cuda' if torch.cuda.is_available() else 'cpu')\n",
    "\n",
    "sam = sam_model_registry[model_type](checkpoint=sam_checkpoint)\n",
    "sam.to(device=device)\n",
    "\n",
    "sam_image_encoder = SamEncoder(sam, device)\n",
    "predictor = SamPredictor(sam)\n",
    "\n",
    "'''image_path = '/home/icb/hanyi.zhang/organoids_images/1709910822.png'\n",
    "image_path = '/home/icb/hanyi.zhang/organoids_images/1709910835.png'\n",
    "image_path = '/home/icb/hanyi.zhang/organoids_images/Picture2.png'\n",
    "image_path = '/home/icb/hanyi.zhang/organoids_images/Picture3.png'\n",
    "\n",
    "file_idx = image_path.rsplit('.', 1)[0]\n",
    "\n",
    "image_embedding_path = image_path.replace('.png', '.npy')\n",
    "# Load the image file and convert it to a numpy array\n",
    "with Image.open(image_path) as image:\n",
    "    image = image.convert('RGB')\n",
    "    img_np = np.array(image)\n",
    "\n",
    "# Process the image to get its embedding\n",
    "img_embed = sam_image_encoder.set_image(img_np)\n",
    "np.save(image_embedding_path, img_embed.cpu().detach().numpy())\n",
    "\n",
    "original_size = image.size  # (width, height)\n",
    "original_size = (original_size[1], original_size[0])  # Convert to (height, width)\n",
    "original_size'''"
   ]
  },
  {
   "cell_type": "markdown",
   "metadata": {},
   "source": [
    "# Load the Model Checkpoint and evaluate"
   ]
  },
  {
   "cell_type": "code",
   "execution_count": 4,
   "metadata": {},
   "outputs": [
    {
     "name": "stdout",
     "output_type": "stream",
     "text": [
      "/ictstr01/home/icb/hanyi.zhang/Detection_Head\n"
     ]
    },
    {
     "name": "stderr",
     "output_type": "stream",
     "text": [
      "/home/icb/hanyi.zhang/.local/lib/python3.9/site-packages/IPython/core/magics/osm.py:417: UserWarning: using dhist requires you to install the `pickleshare` library.\n",
      "  self.shell.db['dhist'] = compress_dhist(dhist)[-100:]\n"
     ]
    }
   ],
   "source": [
    "cd /home/icb/hanyi.zhang/Detection_Head"
   ]
  },
  {
   "cell_type": "code",
   "execution_count": 5,
   "metadata": {},
   "outputs": [
    {
     "data": {
      "text/plain": [
       "DetectionHead(\n",
       "  (matcher): HungarianMatcher()\n",
       "  (criterion): SetCriterion(\n",
       "    (matcher): HungarianMatcher()\n",
       "  )\n",
       "  (query_embed): Embedding(100, 256)\n",
       "  (position_embedding): PositionEmbeddingSine()\n",
       "  (transformer_decoder): TransformerDecoder(\n",
       "    (self_attention_layers): ModuleList(\n",
       "      (0-5): 6 x SelfAttentionLayer(\n",
       "        (self_attn): MultiheadAttention(\n",
       "          (out_proj): NonDynamicallyQuantizableLinear(in_features=256, out_features=256, bias=True)\n",
       "        )\n",
       "        (norm): LayerNorm((256,), eps=1e-05, elementwise_affine=True)\n",
       "        (dropout): Dropout(p=0.1, inplace=False)\n",
       "      )\n",
       "    )\n",
       "    (cross_attention_layers): ModuleList(\n",
       "      (0-5): 6 x CrossAttentionLayer(\n",
       "        (multihead_attn): MultiheadAttention(\n",
       "          (out_proj): NonDynamicallyQuantizableLinear(in_features=256, out_features=256, bias=True)\n",
       "        )\n",
       "        (norm): LayerNorm((256,), eps=1e-05, elementwise_affine=True)\n",
       "        (dropout): Dropout(p=0.1, inplace=False)\n",
       "      )\n",
       "    )\n",
       "    (ffn_layers): ModuleList(\n",
       "      (0-5): 6 x FFNLayer(\n",
       "        (linear1): Linear(in_features=256, out_features=512, bias=True)\n",
       "        (dropout): Dropout(p=0.1, inplace=False)\n",
       "        (linear2): Linear(in_features=512, out_features=256, bias=True)\n",
       "        (norm): LayerNorm((256,), eps=1e-05, elementwise_affine=True)\n",
       "      )\n",
       "    )\n",
       "    (norm): LayerNorm((256,), eps=1e-05, elementwise_affine=True)\n",
       "  )\n",
       "  (class_embed): Linear(in_features=256, out_features=2, bias=True)\n",
       "  (bbox_embed): MLP(\n",
       "    (layers): ModuleList(\n",
       "      (0-1): 2 x Linear(in_features=256, out_features=256, bias=True)\n",
       "      (2): Linear(in_features=256, out_features=4, bias=True)\n",
       "    )\n",
       "  )\n",
       ")"
      ]
     },
     "execution_count": 5,
     "metadata": {},
     "output_type": "execute_result"
    }
   ],
   "source": [
    "# Load checkpoint here\n",
    "import torch\n",
    "from detection_head_model import DetectionHead\n",
    "\n",
    "#checkpoint_path = '/home/icb/hanyi.zhang/Detection_Head/checkpoints/DetectionHead_training-original-epoch=299-val_loss=7.69.ckpt' \n",
    "checkpoint_path = '/home/icb/hanyi.zhang/Detection_Head/checkpoints/DetectionHead_training-smaller-patches-epoch=299-val_loss=9.22.ckpt'\n",
    "\n",
    "model = DetectionHead.load_from_checkpoint(checkpoint_path)\n",
    "\n",
    "# Set the model to evaluation mode\n",
    "model.eval()\n",
    "\n",
    "# Determine device (GPU or CPU)\n",
    "device = torch.device('cuda' if torch.cuda.is_available() else 'cpu')\n",
    "model.to(device)"
   ]
  },
  {
   "cell_type": "code",
   "execution_count": 6,
   "metadata": {},
   "outputs": [],
   "source": [
    "import os\n",
    "import numpy as np\n",
    "from PIL import Image\n",
    "from sklearn.metrics import precision_recall_curve, average_precision_score\n",
    "import json\n",
    "import cv2\n",
    "from scipy.optimize import linear_sum_assignment\n",
    "\n",
    "# Function to load checkpoint and perform evaluation on one example\n",
    "def evaluate_single_example(model, img_emb):\n",
    "    # Prepare the input\n",
    "    img_emb = torch.tensor(img_emb, dtype=torch.float32).to(device)  # Convert and move to GPU if available\n",
    "    \n",
    "    # Dummy query embedding (you may adjust this based on your actual implementation)\n",
    "    query_embed = model.query_embed.weight.to(device)\n",
    "    \n",
    "    # Get positional embedding\n",
    "    pos_embedding = model.position_embedding(img_emb)\n",
    "    \n",
    "    # Forward pass\n",
    "    with torch.no_grad():\n",
    "        outputs = model(query_embedding=query_embed, image_embedding=img_emb, pos_embedding=pos_embedding)\n",
    "\n",
    "    # Apply softmax to pred_logits\n",
    "    pred_logits = torch.nn.functional.softmax(outputs['pred_logits'][0], dim=-1)\n",
    "    \n",
    "    # Convert softmax output to binary predictions (0 or 1)\n",
    "    binary_predictions = (pred_logits[:, 0] > pred_logits[:, 1]).cpu().numpy().astype(int)\n",
    "    \n",
    "    # Filter out boxes with binary prediction value 0\n",
    "    pred_boxes = outputs['pred_boxes'].cpu().numpy()[0]\n",
    "    filtered_boxes = pred_boxes[binary_predictions == 1]\n",
    "    confidence_scores = pred_logits[binary_predictions == 1, 0].cpu().numpy()\n",
    "    \n",
    "    return filtered_boxes, confidence_scores\n",
    "\n",
    "def non_max_suppression(bboxes, scores, threshold):\n",
    "    \"\"\"Perform Non-Maximum Suppression (NMS) on bounding boxes.\n",
    "    \n",
    "    Args:\n",
    "    bboxes (numpy.ndarray): Array of bounding boxes in the format (x1, y1, x2, y2).\n",
    "    scores (numpy.ndarray): Array of scores for each bounding box.\n",
    "    threshold (float): IoU threshold for suppression.\n",
    "\n",
    "    Returns:\n",
    "    numpy.ndarray: Array of indices of bounding boxes to keep.\n",
    "    \"\"\"\n",
    "    # Sort the bounding boxes by the scores in descending order\n",
    "    indices = np.argsort(scores)[::-1]\n",
    "    \n",
    "    keep = []\n",
    "    while len(indices) > 0:\n",
    "        current = indices[0]\n",
    "        keep.append(current)\n",
    "        \n",
    "        if len(indices) == 1:\n",
    "            break\n",
    "        \n",
    "        current_box = bboxes[current]\n",
    "        remaining_boxes = bboxes[indices[1:]]\n",
    "        \n",
    "        # Compute IoU of the current box with the rest\n",
    "        ious = np.array([compute_iou(current_box, box) for box in remaining_boxes])\n",
    "        \n",
    "        # Select boxes with IoU less than the threshold\n",
    "        indices = indices[1:][ious < threshold]\n",
    "    \n",
    "    return np.array(keep)\n",
    "\n",
    "def compute_iou(box1, box2):\n",
    "    x1_max = max(box1[0], box2[0])\n",
    "    y1_max = max(box1[1], box2[1])\n",
    "    x2_min = min(box1[2], box2[2])\n",
    "    y2_min = min(box1[3], box2[3])\n",
    "\n",
    "    intersection_area = max(0, x2_min - x1_max) * max(0, y2_min - y1_max)\n",
    "\n",
    "    box1_area = (box1[2] - box1[0]) * (box1[3] - box1[1])\n",
    "    box2_area = (box2[2] - box2[0]) * (box2[3] - box2[1])\n",
    "\n",
    "    union_area = box1_area + box2_area - intersection_area\n",
    "\n",
    "    if union_area == 0:\n",
    "        return 0.0\n",
    "\n",
    "    iou = intersection_area / union_area\n",
    "    return iou\n",
    "\n",
    "# Use Hungarian Matching\n",
    "def evaluate_detections(gt_boxes, pred_boxes, confidence_scores, iou_threshold=0.5):\n",
    "    num_gt = len(gt_boxes)\n",
    "    num_pred = len(pred_boxes)\n",
    "    \n",
    "    iou_matrix = np.zeros((num_gt, num_pred))\n",
    "    \n",
    "    for i, gt_box in enumerate(gt_boxes):\n",
    "        for j, pred_box in enumerate(pred_boxes):\n",
    "            iou_matrix[i, j] = compute_iou(gt_box, pred_box)\n",
    "    \n",
    "    row_ind, col_ind = linear_sum_assignment(-iou_matrix)\n",
    "    \n",
    "    matches = [(i, j) for i, j in zip(row_ind, col_ind) if iou_matrix[i, j] >= iou_threshold]\n",
    "    \n",
    "    matched_gt_indices = {gt_idx for gt_idx, _ in matches}\n",
    "    matched_pred_indices = {pred_idx for _, pred_idx in matches}\n",
    "\n",
    "    true_positives = len(matched_gt_indices)\n",
    "    false_positives = len(pred_boxes) - len(matched_pred_indices)\n",
    "    false_negatives = len(gt_boxes) - len(matched_gt_indices)\n",
    "    \n",
    "    iou_sum = sum(iou_matrix[gt_idx, pred_idx] for gt_idx, pred_idx in matches)\n",
    "    average_iou = iou_sum / len(matches) if matches else 0\n",
    "    \n",
    "    if len(pred_boxes) != 0:\n",
    "        y_true = [1 if i in matched_pred_indices else 0 for i in range(len(pred_boxes))]\n",
    "        ap = average_precision_score(y_true, confidence_scores)\n",
    "        precision = true_positives / (true_positives + false_positives) if (true_positives + false_positives) > 0 else 0\n",
    "    else:\n",
    "        ap = 0\n",
    "        precision = 0\n",
    "    \n",
    "    recall = true_positives / (true_positives + false_negatives) if (true_positives + false_negatives) > 0 else 0\n",
    "\n",
    "    return {\n",
    "        'average_iou': average_iou,\n",
    "        'true_positives': true_positives,\n",
    "        'false_positives': false_positives,\n",
    "        'false_negatives': false_negatives,\n",
    "        'ap': ap,\n",
    "        'precision': precision,\n",
    "        'recall': recall\n",
    "    }\n",
    "\n",
    "def calculate_seg_iou(mask1, mask2):\n",
    "    intersection = np.logical_and(mask1, mask2).sum()\n",
    "    union = np.logical_or(mask1, mask2).sum()\n",
    "    if union == 0:\n",
    "        return 0\n",
    "    return intersection / union\n",
    "\n",
    "def calculate_dice(mask1, mask2):\n",
    "    intersection = np.logical_and(mask1, mask2).sum()\n",
    "    return 2 * intersection / (mask1.sum() + mask2.sum())\n",
    "\n",
    "def evaluate_segmentation(gt_masks, pred_masks, iou_threshold=0.5):\n",
    "    # Get unique masks from ground truth\n",
    "    unique_vals = np.unique(gt_masks)\n",
    "    unique_vals = unique_vals[unique_vals != 0]  # Remove background value\n",
    "    \n",
    "    # Convert predicted masks to numpy arrays\n",
    "    pred_masks_np = pred_masks.squeeze(1).detach().cpu().numpy()\n",
    "    \n",
    "    num_gt = len(unique_vals)\n",
    "    num_pred = pred_masks_np.shape[0]\n",
    "    \n",
    "    iou_matrix = np.zeros((num_gt, num_pred))\n",
    "    \n",
    "    for i, val in enumerate(unique_vals):\n",
    "        gt_mask = gt_masks == val\n",
    "        for j in range(num_pred):\n",
    "            pred_mask = pred_masks_np[j]\n",
    "            iou_matrix[i, j] = calculate_seg_iou(gt_mask, pred_mask)\n",
    "    \n",
    "    # Hungarian algorithm to find the best match\n",
    "    row_ind, col_ind = linear_sum_assignment(-iou_matrix)\n",
    "    \n",
    "    matched_pairs = [(i, j) for i, j in zip(row_ind, col_ind) if iou_matrix[i, j] >= iou_threshold]\n",
    "    \n",
    "    tp = len(matched_pairs)\n",
    "    fp = num_pred - tp\n",
    "    fn = num_gt - tp\n",
    "    \n",
    "    ious = [iou_matrix[i, j] for i, j in matched_pairs]\n",
    "    dices = [calculate_dice(gt_masks == unique_vals[i], pred_masks_np[j]) for i, j in matched_pairs]\n",
    "    \n",
    "    mean_iou = np.mean(ious) if tp > 0 else 0\n",
    "    mean_dice = np.mean(dices) if tp > 0 else 0\n",
    "    \n",
    "    precision = tp / (tp + fp) if tp + fp > 0 else 0\n",
    "    recall = tp / (tp + fn) if tp + fn > 0 else 0\n",
    "    f1_score = 2 * precision * recall / (precision + recall) if precision + recall > 0 else 0\n",
    "\n",
    "    eva_results = {\n",
    "        'mean_iou': mean_iou,\n",
    "        'mean_dice': mean_dice,\n",
    "        'precision': precision,\n",
    "        'recall': recall,\n",
    "        'f1_score': f1_score,\n",
    "        'true_positives': tp,\n",
    "        'false_positives': fp,\n",
    "        'false_negatives': fn\n",
    "    }\n",
    "    \n",
    "    return eva_results"
   ]
  },
  {
   "cell_type": "markdown",
   "metadata": {},
   "source": [
    "# Images from Neurips Dataset"
   ]
  },
  {
   "cell_type": "code",
   "execution_count": 7,
   "metadata": {},
   "outputs": [
    {
     "name": "stdout",
     "output_type": "stream",
     "text": [
      "100\n",
      "200\n"
     ]
    },
    {
     "name": "stderr",
     "output_type": "stream",
     "text": [
      "/home/icb/hanyi.zhang/miniconda3/envs/memseg/lib/python3.9/site-packages/sklearn/metrics/_ranking.py:1030: UserWarning: No positive class found in y_true, recall is set to one for all thresholds.\n",
      "  warnings.warn(\n",
      "/home/icb/hanyi.zhang/miniconda3/envs/memseg/lib/python3.9/site-packages/sklearn/metrics/_ranking.py:1030: UserWarning: No positive class found in y_true, recall is set to one for all thresholds.\n",
      "  warnings.warn(\n"
     ]
    },
    {
     "name": "stdout",
     "output_type": "stream",
     "text": [
      "300\n"
     ]
    },
    {
     "name": "stderr",
     "output_type": "stream",
     "text": [
      "/home/icb/hanyi.zhang/miniconda3/envs/memseg/lib/python3.9/site-packages/sklearn/metrics/_ranking.py:1030: UserWarning: No positive class found in y_true, recall is set to one for all thresholds.\n",
      "  warnings.warn(\n"
     ]
    },
    {
     "name": "stdout",
     "output_type": "stream",
     "text": [
      "400\n"
     ]
    },
    {
     "name": "stderr",
     "output_type": "stream",
     "text": [
      "/home/icb/hanyi.zhang/miniconda3/envs/memseg/lib/python3.9/site-packages/sklearn/metrics/_ranking.py:1030: UserWarning: No positive class found in y_true, recall is set to one for all thresholds.\n",
      "  warnings.warn(\n"
     ]
    },
    {
     "name": "stdout",
     "output_type": "stream",
     "text": [
      "500\n",
      "600\n",
      "700\n"
     ]
    },
    {
     "name": "stderr",
     "output_type": "stream",
     "text": [
      "/home/icb/hanyi.zhang/miniconda3/envs/memseg/lib/python3.9/site-packages/sklearn/metrics/_ranking.py:1030: UserWarning: No positive class found in y_true, recall is set to one for all thresholds.\n",
      "  warnings.warn(\n"
     ]
    },
    {
     "name": "stdout",
     "output_type": "stream",
     "text": [
      "800\n"
     ]
    },
    {
     "name": "stderr",
     "output_type": "stream",
     "text": [
      "/home/icb/hanyi.zhang/miniconda3/envs/memseg/lib/python3.9/site-packages/sklearn/metrics/_ranking.py:1030: UserWarning: No positive class found in y_true, recall is set to one for all thresholds.\n",
      "  warnings.warn(\n"
     ]
    },
    {
     "name": "stdout",
     "output_type": "stream",
     "text": [
      "900\n"
     ]
    },
    {
     "name": "stderr",
     "output_type": "stream",
     "text": [
      "/home/icb/hanyi.zhang/miniconda3/envs/memseg/lib/python3.9/site-packages/sklearn/metrics/_ranking.py:1030: UserWarning: No positive class found in y_true, recall is set to one for all thresholds.\n",
      "  warnings.warn(\n"
     ]
    },
    {
     "name": "stdout",
     "output_type": "stream",
     "text": [
      "1000\n"
     ]
    },
    {
     "name": "stderr",
     "output_type": "stream",
     "text": [
      "/home/icb/hanyi.zhang/miniconda3/envs/memseg/lib/python3.9/site-packages/sklearn/metrics/_ranking.py:1030: UserWarning: No positive class found in y_true, recall is set to one for all thresholds.\n",
      "  warnings.warn(\n"
     ]
    },
    {
     "name": "stdout",
     "output_type": "stream",
     "text": [
      "1100\n",
      "Detection Results: \n",
      "Average IoU: 0.7274\n",
      "Precision: 0.6081\n",
      "Recall: 0.6788\n",
      "F1 Score: 0.6415\n",
      "Mean AP: 0.8608\n",
      "\n",
      "Segmentation Results: \n",
      "Mean IoU: 0.7094\n",
      "Mean Dice: 0.8194\n",
      "Precision: 0.5987\n",
      "Recall: 0.6701\n",
      "F1 Score: 0.6324\n"
     ]
    }
   ],
   "source": [
    "# Define paths\n",
    "#img_folder = '/home/icb/hanyi.zhang/NeurIPS22-CellSeg-png/train/images_patches/'\n",
    "#img_emb_folder = '/home/icb/hanyi.zhang/NeurIPS22-CellSeg-png/train/images_patches_emb/'\n",
    "#label_folder = '/home/icb/hanyi.zhang/NeurIPS22-CellSeg-png/train/targets/'\n",
    "#mask_folder = '/home/icb/hanyi.zhang/NeurIPS22-CellSeg-png/train/mask_patches'\n",
    "#save_folder = '/home/icb/hanyi.zhang/Detection_Head/training_results/'\n",
    "\n",
    "#img_folder = '/home/icb/hanyi.zhang/NeurIPS22-CellSeg-png/test/images_patches/'\n",
    "#img_emb_folder = '/home/icb/hanyi.zhang/NeurIPS22-CellSeg-png/test/images_patches_emb/'\n",
    "#label_folder = '/home/icb/hanyi.zhang/NeurIPS22-CellSeg-png/test/targets/'\n",
    "#mask_folder = '/home/icb/hanyi.zhang/NeurIPS22-CellSeg-png/test/mask_patches'\n",
    "#save_folder = '/home/icb/hanyi.zhang/Detection_Head/test_results/'\n",
    "\n",
    "base_folder = '/home/icb/hanyi.zhang/NeurIPS22-CellSeg-png-small/test'\n",
    "img_folder = os.path.join(base_folder, 'images_patches')\n",
    "img_emb_folder = os.path.join(base_folder, 'images_patches_emb')\n",
    "label_folder = os.path.join(base_folder, 'targets')\n",
    "mask_folder = os.path.join(base_folder, 'labels_patches')\n",
    "save_folder =  os.path.join(base_folder, 'overall_evaluation_results')\n",
    "\n",
    "os.makedirs(save_folder, exist_ok=True)\n",
    "\n",
    "# Define NMS threshold\n",
    "threshold = 0.3\n",
    "\n",
    "# Initialize accumulators for results\n",
    "det_iou_list = []\n",
    "det_tp_list = []\n",
    "det_fp_list = []\n",
    "det_fn_list = []\n",
    "det_ap_list = []\n",
    "det_precision_list = []\n",
    "det_recall_list = []\n",
    "\n",
    "seg_iou_list = []\n",
    "seg_dice_list = []\n",
    "seg_precision_list = []\n",
    "seg_recall_list = []\n",
    "seg_f1_list = []\n",
    "seg_tp_list = []\n",
    "seg_fp_list = []\n",
    "seg_fn_list = []\n",
    "\n",
    "num_images = 0\n",
    "\n",
    "# Get list of files\n",
    "img_emb_files = os.listdir(img_emb_folder)\n",
    "\n",
    "for img_emb_file in img_emb_files:\n",
    "    file_idx = img_emb_file.rsplit('.', 1)[0]\n",
    "\n",
    "    # Define image path, label path and image embedding path\n",
    "    image_path = os.path.join(img_folder, file_idx + '.png')\n",
    "    labels_path = os.path.join(label_folder, file_idx.replace('_img_', '_label_') + '.npy')\n",
    "    image_embedding_path = os.path.join(img_emb_folder, img_emb_file)\n",
    "\n",
    "    # Read Ground Truth bounding boxes\n",
    "    ground_truth_boxes = np.load(labels_path)\n",
    "\n",
    "    # Read the image\n",
    "    image = Image.open(image_path)\n",
    "\n",
    "    # Get the original size of the image\n",
    "    original_size = image.size  # (width, height)\n",
    "    original_size = (original_size[1], original_size[0])  # Convert to (height, width)\n",
    "    original_boxes_gt = inverse_boxes(convert_boxes(ground_truth_boxes) * 1024, original_size)\n",
    "\n",
    "    # Load image embedding\n",
    "    image_embedding = np.load(image_embedding_path)\n",
    "\n",
    "    # Predict boxes and convert to original size\n",
    "    predicted_boxes, confidence_scores = evaluate_single_example(model, image_embedding)\n",
    "    original_boxes_pred = inverse_boxes(convert_boxes(predicted_boxes) * 1024, original_size)\n",
    "\n",
    "    kept_indices = non_max_suppression(original_boxes_pred, confidence_scores, threshold)\n",
    "    if len(kept_indices) != 0:\n",
    "        original_boxes_pred_filtered = original_boxes_pred[kept_indices]\n",
    "        filtered_confidences = confidence_scores[kept_indices]\n",
    "    else:\n",
    "        original_boxes_pred_filtered = []\n",
    "        filtered_confidences = []\n",
    "\n",
    "    # Evaluate Detection here\n",
    "    if len(original_boxes_pred_filtered) == 0:\n",
    "        # If no predicted boxes, set metrics to zero or appropriate values\n",
    "        results = {\n",
    "            'average_iou': 0,\n",
    "            'true_positives': 0,\n",
    "            'false_positives': 0,\n",
    "            'false_negatives': len(original_boxes_gt),\n",
    "            'ap': 0,\n",
    "            'precision': 0,\n",
    "            'recall': 0\n",
    "        }\n",
    "    else:\n",
    "        results = evaluate_detections(original_boxes_gt, original_boxes_pred_filtered, filtered_confidences, iou_threshold=0.5)\n",
    "    \n",
    "    det_iou_list.append(results['average_iou'])\n",
    "    det_tp_list.append(results['true_positives'])\n",
    "    det_fp_list.append(results['false_positives'])\n",
    "    det_fn_list.append(results['false_negatives'])\n",
    "    det_ap_list.append(results['ap'])\n",
    "    det_precision_list.append(results['precision'])\n",
    "    det_recall_list.append(results['recall'])\n",
    "\n",
    "    # Evaluate Segmentation here\n",
    "    if len(original_boxes_pred_filtered) == 0:\n",
    "        seg_metrics = {\n",
    "            'mean_iou': 0,\n",
    "            'mean_dice': 0,\n",
    "            'precision': 0,\n",
    "            'recall': 0,\n",
    "            'f1_score': 0,\n",
    "            'true_positives': 0,\n",
    "            'false_positives': 0,\n",
    "            'false_negatives': len(np.unique(ground_truth_masks)) - 1  # excluding background\n",
    "        }\n",
    "    else:\n",
    "        image = cv2.imread(image_path)\n",
    "        predictor.set_image(image)\n",
    "        input_boxes = torch.tensor(original_boxes_pred_filtered).to(device)\n",
    "        transformed_boxes = predictor.transform.apply_boxes_torch(input_boxes, image.shape[:2])\n",
    "        masks, _, _ = predictor.predict_torch(\n",
    "            point_coords=None,\n",
    "            point_labels=None,\n",
    "            boxes=transformed_boxes,\n",
    "            multimask_output=False,\n",
    "        )\n",
    "        mask_path = os.path.join(mask_folder, file_idx.replace('_img_', '_label_') + '.npy')\n",
    "        ground_truth_masks = np.load(mask_path)\n",
    "        seg_metrics = evaluate_segmentation(ground_truth_masks, masks)\n",
    "\n",
    "    seg_iou_list.append(seg_metrics['mean_iou'])\n",
    "    seg_dice_list.append(seg_metrics['mean_dice'])\n",
    "    seg_precision_list.append(seg_metrics['precision'])\n",
    "    seg_recall_list.append(seg_metrics['recall'])\n",
    "    seg_f1_list.append(seg_metrics['f1_score'])\n",
    "    seg_tp_list.append(seg_metrics['true_positives'])\n",
    "    seg_fp_list.append(seg_metrics['false_positives'])\n",
    "    seg_fn_list.append(seg_metrics['false_negatives'])\n",
    "\n",
    "    num_images += 1\n",
    "\n",
    "    if num_images % 100 == 0:\n",
    "        print(num_images)\n",
    "\n",
    "# Calculate mean values after for-loop\n",
    "det_avg_iou = np.mean(np.array(det_iou_list))\n",
    "det_mean_ap = np.mean(np.array(det_ap_list))\n",
    "det_mean_precision = np.mean(np.array(det_precision_list))\n",
    "det_mean_recall = np.mean(np.array(det_recall_list))\n",
    "det_f1_score = 2 * (det_mean_precision * det_mean_recall) / (det_mean_precision + det_mean_recall) if (det_mean_precision + det_mean_recall) > 0 else 0\n",
    "\n",
    "print('Detection Results: ')\n",
    "print(f'Average IoU: {det_avg_iou:.4f}')\n",
    "print(f'Precision: {det_mean_precision:.4f}')\n",
    "print(f'Recall: {det_mean_recall:.4f}')\n",
    "print(f'F1 Score: {det_f1_score:.4f}')\n",
    "print(f'Mean AP: {det_mean_ap:.4f}')\n",
    "\n",
    "seg_iou = np.mean(np.array(seg_iou_list))\n",
    "seg_dice = np.mean(np.array(seg_dice_list))\n",
    "seg_mean_precision = np.mean(np.array(seg_precision_list))\n",
    "seg_mean_recall = np.mean(np.array(seg_recall_list))\n",
    "seg_f1_score = 2 * (seg_mean_precision * seg_mean_recall) / (seg_mean_precision + seg_mean_recall) if (seg_mean_precision + seg_mean_recall) > 0 else 0\n",
    "print('\\nSegmentation Results: ')\n",
    "print(f'Mean IoU: {seg_iou:.4f}')\n",
    "print(f'Mean Dice: {seg_dice:.4f}')\n",
    "print(f'Precision: {seg_mean_precision:.4f}')\n",
    "print(f'Recall: {seg_mean_recall:.4f}')\n",
    "print(f'F1 Score: {seg_f1_score:.4f}')\n",
    "\n",
    "# Save detection results\n",
    "detection_results = {\n",
    "    'iou_list': det_iou_list,\n",
    "    'tp_list': det_tp_list,\n",
    "    'fp_list': det_fp_list,\n",
    "    'fn_list': det_fn_list,\n",
    "    'ap_list': det_ap_list,\n",
    "    'precision_list': det_precision_list,\n",
    "    'recall_list': det_recall_list,\n",
    "    'avg_iou': det_avg_iou,\n",
    "    'mean_ap': det_mean_ap,\n",
    "    'mean_precision': det_mean_precision,\n",
    "    'mean_recall': det_mean_recall,\n",
    "    'f1_score': det_f1_score\n",
    "}\n",
    "\n",
    "detection_results_path = os.path.join(save_folder,'detection_results.json')\n",
    "with open(detection_results_path, 'w') as json_file:\n",
    "    json.dump(detection_results, json_file)\n",
    "\n",
    "# Save segmentation results\n",
    "segmentation_results = {\n",
    "    'iou_list': seg_iou_list,\n",
    "    'dice_list': seg_dice_list,\n",
    "    'precision_list': seg_precision_list,\n",
    "    'recall_list': seg_recall_list,\n",
    "    'f1_list': seg_f1_list,\n",
    "    'tp_list': seg_tp_list,\n",
    "    'fp_list': seg_fp_list,\n",
    "    'fn_list': seg_fn_list,\n",
    "    'mean_iou': seg_iou,\n",
    "    'mean_dice': seg_dice,\n",
    "    'mean_precision': seg_mean_precision,\n",
    "    'mean_recall': seg_mean_recall,\n",
    "    'f1_score': seg_f1_score\n",
    "}\n",
    "\n",
    "segmentation_results_path = os.path.join(save_folder,'segmentation_results.json')\n",
    "with open(segmentation_results_path, 'w') as json_file:\n",
    "    json.dump(segmentation_results, json_file)"
   ]
  },
  {
   "cell_type": "markdown",
   "metadata": {},
   "source": [
    "# Load saved training and test results"
   ]
  },
  {
   "cell_type": "code",
   "execution_count": 3,
   "metadata": {},
   "outputs": [],
   "source": [
    "import matplotlib.pyplot as plt\n",
    "import json\n",
    "import numpy as np\n",
    "\n",
    "# Function to print evaluation results\n",
    "def print_detection_results(results_dict):\n",
    "    metrics = [\n",
    "        ('Average IOU', 'avg_iou'),\n",
    "        ('Mean AP', 'mean_ap'),\n",
    "        ('Mean Precision', 'mean_precision'),\n",
    "        ('Mean Recall', 'mean_recall'),\n",
    "        ('F1 Score', 'f1_score')\n",
    "    ]\n",
    "    \n",
    "    for label, key in metrics:\n",
    "        value = results_dict.get(key, 'N/A')  # Handle missing keys gracefully\n",
    "        print(f'{label: <20}: {value}')\n",
    "\n",
    "def print_segmentation_results(results_dict):\n",
    "    metrics = [\n",
    "        ('Mean IOU', 'mean_iou'),\n",
    "        ('Mean Dice', 'mean_dice'),\n",
    "        ('Mean Precision', 'mean_precision'),\n",
    "        ('Mean Recall', 'mean_recall'),\n",
    "        ('F1 Score', 'f1_score')\n",
    "    ]\n",
    "    \n",
    "    for label, key in metrics:\n",
    "        value = results_dict.get(key, 'N/A')  # Handle missing keys gracefully\n",
    "        print(f'{label: <20}: {value}')\n",
    "\n",
    "# Function to plot evaluation results\n",
    "def plot_detection_results(training_results, test_results):\n",
    "    metrics = ['Mean IOU', 'Mean AP', 'Mean Precision', 'Mean Recall', 'F1 Score']\n",
    "    \n",
    "    training_values = [\n",
    "        training_results.get('avg_iou', 0),\n",
    "        training_results.get('mean_ap', 0),\n",
    "        training_results.get('mean_precision', 0),\n",
    "        training_results.get('mean_recall', 0),\n",
    "        training_results.get('f1_score', 0)\n",
    "    ]\n",
    "    \n",
    "    test_values = [\n",
    "        test_results.get('avg_iou', 0),\n",
    "        test_results.get('mean_ap', 0),\n",
    "        test_results.get('mean_precision', 0),\n",
    "        test_results.get('mean_recall', 0),\n",
    "        test_results.get('f1_score', 0)\n",
    "    ]\n",
    "    \n",
    "    x = np.arange(len(metrics))\n",
    "    width = 0.35  # Width of the bars\n",
    "    \n",
    "    plt.figure(figsize=(10, 6))\n",
    "    plt.bar(x - width/2, training_values, width, label='Training')\n",
    "    plt.bar(x + width/2, test_values, width, label='Test')\n",
    "    \n",
    "    plt.xlabel('Metrics')\n",
    "    plt.ylabel('Scores')\n",
    "    plt.title('Detection Results')\n",
    "    plt.xticks(x, metrics)\n",
    "    plt.ylim(0, 1)\n",
    "    plt.legend()\n",
    "    \n",
    "    plt.show()\n",
    "\n",
    "def plot_segmentation_results(training_results, test_results):\n",
    "    metrics = ['Mean IOU', 'Mean Dice']\n",
    "    \n",
    "    training_values = [\n",
    "        training_results.get('mean_iou', 0),\n",
    "        training_results.get('mean_dice', 0),\n",
    "        #training_results.get('mean_precision', 0),\n",
    "        #training_results.get('mean_recall', 0),\n",
    "        #training_results.get('f1_score', 0)\n",
    "    ]\n",
    "    \n",
    "    test_values = [\n",
    "        test_results.get('mean_iou', 0),\n",
    "        test_results.get('mean_dice', 0),\n",
    "        #test_results.get('mean_precision', 0),\n",
    "        #test_results.get('mean_recall', 0),\n",
    "        #test_results.get('f1_score', 0)\n",
    "    ]\n",
    "    \n",
    "    x = np.arange(len(metrics))\n",
    "    width = 0.35  # Width of the bars\n",
    "    \n",
    "    plt.figure(figsize=(10, 6))\n",
    "    plt.bar(x - width/2, training_values, width, label='Training')\n",
    "    plt.bar(x + width/2, test_values, width, label='Test')\n",
    "    \n",
    "    plt.xlabel('Metrics')\n",
    "    plt.ylabel('Scores')\n",
    "    plt.title('Segmentation Results')\n",
    "    plt.xticks(x, metrics)\n",
    "    plt.ylim(0, 1)\n",
    "    plt.legend()\n",
    "    \n",
    "    plt.show()\n"
   ]
  },
  {
   "cell_type": "markdown",
   "metadata": {},
   "source": [
    "# Detection Results"
   ]
  },
  {
   "cell_type": "markdown",
   "metadata": {},
   "source": [
    "### Old results"
   ]
  },
  {
   "cell_type": "code",
   "execution_count": 24,
   "metadata": {},
   "outputs": [
    {
     "name": "stdout",
     "output_type": "stream",
     "text": [
      "Old results: \n",
      "Evaluation Results on Training Dataset:\n",
      "Average IOU         : 0.8185985894535031\n",
      "Mean AP             : 0.944759089337609\n",
      "Mean Precision      : 0.7564950559814787\n",
      "Mean Recall         : 0.9048875169299755\n",
      "F1 Score            : 0.8240641787607902\n",
      "\n",
      "Evaluation Results on Test Dataset:\n",
      "Average IOU         : 0.735446438603719\n",
      "Mean AP             : 0.8650690576621765\n",
      "Mean Precision      : 0.6146788441137109\n",
      "Mean Recall         : 0.7293125353869593\n",
      "F1 Score            : 0.6671069369743267\n"
     ]
    },
    {
     "data": {
      "image/png": "[encoded data removed]",
      "text/plain": [
       "<Figure size 1000x600 with 1 Axes>"
      ]
     },
     "metadata": {},
     "output_type": "display_data"
    }
   ],
   "source": [
    "training_detection_results_path = os.path.join('/home/icb/hanyi.zhang/Detection_Head/training_results', 'detection_results.json')\n",
    "test_detection_results_path = os.path.join('/home/icb/hanyi.zhang/Detection_Head/test_results', 'detection_results.json')\n",
    "\n",
    "# Loading dictionary from a JSON file\n",
    "with open(training_detection_results_path, 'r') as json_file:\n",
    "    training_detection_results_dict = json.load(json_file)\n",
    "\n",
    "# Loading dictionary from a JSON file\n",
    "with open(test_detection_results_path, 'r') as json_file:\n",
    "    test_detection_results_dict = json.load(json_file)\n",
    "\n",
    "# Call the function to print the results\n",
    "print('Old results: ')\n",
    "print('Evaluation Results on Training Dataset:')\n",
    "print_detection_results(training_detection_results_dict)\n",
    "print('\\nEvaluation Results on Test Dataset:')\n",
    "print_detection_results(test_detection_results_dict)\n",
    "\n",
    "# Call the function to plot the results\n",
    "plot_detection_results(training_detection_results_dict, test_detection_results_dict)"
   ]
  },
  {
   "cell_type": "markdown",
   "metadata": {},
   "source": [
    "### New results"
   ]
  },
  {
   "cell_type": "code",
   "execution_count": 4,
   "metadata": {},
   "outputs": [
    {
     "name": "stdout",
     "output_type": "stream",
     "text": [
      "New results: \n",
      "Evaluation Results on Training Dataset:\n",
      "Average IOU         : 0.8099201256858093\n",
      "Mean AP             : 0.954231019843739\n",
      "Mean Precision      : 0.7782155936780827\n",
      "Mean Recall         : 0.8936517170131649\n",
      "F1 Score            : 0.8319484411825683\n",
      "\n",
      "Evaluation Results on Test Dataset:\n",
      "Average IOU         : 0.7274183822619862\n",
      "Mean AP             : 0.8607598599513712\n",
      "Mean Precision      : 0.6081353015051841\n",
      "Mean Recall         : 0.6787546875103044\n",
      "F1 Score            : 0.6415073394935983\n"
     ]
    },
    {
     "data": {
      "image/png": "[encoded data removed]",
      "text/plain": [
       "<Figure size 1000x600 with 1 Axes>"
      ]
     },
     "metadata": {},
     "output_type": "display_data"
    }
   ],
   "source": [
    "training_detection_results_path = os.path.join('/home/icb/hanyi.zhang/NeurIPS22-CellSeg-png-small/train/overall_evaluation_results', 'detection_results.json')\n",
    "test_detection_results_path = os.path.join('/home/icb/hanyi.zhang/NeurIPS22-CellSeg-png-small/test/overall_evaluation_results', 'detection_results.json')\n",
    "\n",
    "# Loading dictionary from a JSON file\n",
    "with open(training_detection_results_path, 'r') as json_file:\n",
    "    training_detection_results_dict = json.load(json_file)\n",
    "\n",
    "# Loading dictionary from a JSON file\n",
    "with open(test_detection_results_path, 'r') as json_file:\n",
    "    test_detection_results_dict = json.load(json_file)\n",
    "\n",
    "# Call the function to print the results\n",
    "print('New results: ')\n",
    "print('Evaluation Results on Training Dataset:')\n",
    "print_detection_results(training_detection_results_dict)\n",
    "print('\\nEvaluation Results on Test Dataset:')\n",
    "print_detection_results(test_detection_results_dict)\n",
    "\n",
    "# Call the function to plot the results\n",
    "plot_detection_results(training_detection_results_dict, test_detection_results_dict)"
   ]
  },
  {
   "cell_type": "markdown",
   "metadata": {},
   "source": [
    "### Segmentation Results"
   ]
  },
  {
   "cell_type": "markdown",
   "metadata": {},
   "source": [
    "### Old results"
   ]
  },
  {
   "cell_type": "code",
   "execution_count": 19,
   "metadata": {},
   "outputs": [
    {
     "name": "stdout",
     "output_type": "stream",
     "text": [
      "Old results: \n",
      "Evaluation Results on Training Dataset:\n",
      "Mean IOU            : 0.764780425360829\n",
      "Mean Dice           : 0.85863353840162\n",
      "Mean Precision      : 0.7137115408099759\n",
      "Mean Recall         : 0.8525475247164684\n",
      "F1 Score            : 0.7769761987294284\n",
      "\n",
      "Evaluation Results on Test Dataset:\n",
      "Mean IOU            : 0.7236637322188982\n",
      "Mean Dice           : 0.8288047198630114\n",
      "Mean Precision      : 0.6047792772112264\n",
      "Mean Recall         : 0.7192658936779219\n",
      "F1 Score            : 0.6570729109024321\n"
     ]
    },
    {
     "data": {
      "image/png": "[encoded data removed]",
      "text/plain": [
       "<Figure size 1000x600 with 1 Axes>"
      ]
     },
     "metadata": {},
     "output_type": "display_data"
    }
   ],
   "source": [
    "training_segmentation_results_path = os.path.join('/home/icb/hanyi.zhang/Detection_Head/training_results', 'segmentation_results.json')\n",
    "test_segmention_results_path = os.path.join('/home/icb/hanyi.zhang/Detection_Head/test_results', 'segmentation_results.json')\n",
    "\n",
    "# Loading dictionary from a JSON file\n",
    "with open(training_segmentation_results_path, 'r') as json_file:\n",
    "    training_segmentation_results_dict = json.load(json_file)\n",
    "\n",
    "# Loading dictionary from a JSON file\n",
    "with open(test_segmention_results_path, 'r') as json_file:\n",
    "    test_segmention_results_dict = json.load(json_file)\n",
    "\n",
    "# Call the function to print the results\n",
    "print('Old results: ')\n",
    "print('Evaluation Results on Training Dataset:')\n",
    "print_segmentation_results(training_segmentation_results_dict)\n",
    "print('\\nEvaluation Results on Test Dataset:')\n",
    "print_segmentation_results(test_segmention_results_dict)\n",
    "\n",
    "# Call the function to plot the results\n",
    "plot_segmentation_results(training_segmentation_results_dict, test_segmention_results_dict)"
   ]
  },
  {
   "cell_type": "markdown",
   "metadata": {},
   "source": [
    "### New results"
   ]
  },
  {
   "cell_type": "code",
   "execution_count": 20,
   "metadata": {},
   "outputs": [
    {
     "name": "stdout",
     "output_type": "stream",
     "text": [
      "New results: \n",
      "Evaluation Results on Training Dataset:\n",
      "Mean IOU            : 0.7408234112857073\n",
      "Mean Dice           : 0.8431213178611531\n",
      "Mean Precision      : 0.7082513583523568\n",
      "Mean Recall         : 0.8124221719271579\n",
      "F1 Score            : 0.756768754588919\n",
      "\n",
      "Evaluation Results on Test Dataset:\n",
      "Mean IOU            : 0.7093610244986247\n",
      "Mean Dice           : 0.819381621641974\n",
      "Mean Precision      : 0.5986528423316022\n",
      "Mean Recall         : 0.670096627476535\n",
      "F1 Score            : 0.632363220985325\n"
     ]
    },
    {
     "data": {
      "image/png": "[encoded data removed]",
      "text/plain": [
       "<Figure size 1000x600 with 1 Axes>"
      ]
     },
     "metadata": {},
     "output_type": "display_data"
    }
   ],
   "source": [
    "training_segmentation_results_path = os.path.join('/home/icb/hanyi.zhang/NeurIPS22-CellSeg-png-small/train/overall_evaluation_results', 'segmentation_results.json')\n",
    "test_segmention_results_path = os.path.join('/home/icb/hanyi.zhang/NeurIPS22-CellSeg-png-small/test/overall_evaluation_results', 'segmentation_results.json')\n",
    "\n",
    "# Loading dictionary from a JSON file\n",
    "with open(training_segmentation_results_path, 'r') as json_file:\n",
    "    training_segmentation_results_dict = json.load(json_file)\n",
    "\n",
    "# Loading dictionary from a JSON file\n",
    "with open(test_segmention_results_path, 'r') as json_file:\n",
    "    test_segmention_results_dict = json.load(json_file)\n",
    "\n",
    "# Call the function to print the results\n",
    "print('New results: ')\n",
    "print('Evaluation Results on Training Dataset:')\n",
    "print_segmentation_results(training_segmentation_results_dict)\n",
    "print('\\nEvaluation Results on Test Dataset:')\n",
    "print_segmentation_results(test_segmention_results_dict)\n",
    "\n",
    "# Call the function to plot the results\n",
    "plot_segmentation_results(training_segmentation_results_dict, test_segmention_results_dict)"
   ]
  }
 ],
 "metadata": {
  "kernelspec": {
   "display_name": "mem_kernel",
   "language": "python",
   "name": "mem"
  },
  "language_info": {
   "codemirror_mode": {
    "name": "ipython",
    "version": 3
   },
   "file_extension": ".py",
   "mimetype": "text/x-python",
   "name": "python",
   "nbconvert_exporter": "python",
   "pygments_lexer": "ipython3",
   "version": "3.9.19"
  }
 },
 "nbformat": 4,
 "nbformat_minor": 2
}
